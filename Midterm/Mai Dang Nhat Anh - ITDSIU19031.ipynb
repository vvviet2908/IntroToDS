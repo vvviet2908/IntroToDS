{
 "cells": [
  {
   "cell_type": "markdown",
   "metadata": {},
   "source": [
    "### Name: Mai Dang Nhat Anh - ID: ITDSIU19031  \n",
    "\n",
    "# MID-TERM EXAMINATION  \n",
    "  \n",
    "Given the glass identification data set, which can be found at http://archive.ics.uci.edu/ml/datasets/glass+identification, including the following attributes:  \n",
    "%    1. Id number: 1 to 214  \n",
    "%    2. RI: refractive index  \n",
    "%    3. Na: Sodium (unit measurement: weight percent in corresponding oxide, as   \n",
    "%                   are attributes 4-10)  \n",
    "%    4. Mg: Magnesium  \n",
    "%    5. Al: Aluminum  \n",
    "%    6. Si: Silicon  \n",
    "%    7. K: Potassium  \n",
    "%    8. Ca: Calcium  \n",
    "%    9. Ba: Barium  \n",
    "%   10. Fe: Iron  \n",
    "%   11. Type of glass: (class attribute)  \n",
    "%       -- 1 building_windows_float_processed  \n",
    "%       -- 2 building_windows_non_float_processed  \n",
    "%       -- 3 vehicle_windows_float_processed  \n",
    "%       -- 4 vehicle_windows_non_float_processed (none in this database)  \n",
    "%       -- 5 containers  \n",
    "%       -- 6 tableware  \n",
    "%       -- 7 headlamps  \n",
    "Attributes from 2 to 10 are numeric.\n",
    "\n",
    "\n"
   ]
  },
  {
   "cell_type": "markdown",
   "metadata": {},
   "source": [
    "### Q1.(40pts) Select 20 sample records from the data set (file glass.data), draw boxplots for Attributes 2-10 using excel or R or Python. Note: please list the selected records and then present the boxplots."
   ]
  },
  {
   "cell_type": "markdown",
   "metadata": {},
   "source": [
    "First, we import some libraries for the task"
   ]
  },
  {
   "cell_type": "code",
   "execution_count": 2,
   "metadata": {},
   "outputs": [],
   "source": [
    "import random\n",
    "import scipy\n",
    "from scipy import stats\n",
    "import matplotlib.pyplot as plt\n",
    "import pandas as pd\n",
    "import seaborn as sns"
   ]
  },
  {
   "cell_type": "markdown",
   "metadata": {},
   "source": [
    "Import the data and take sample of 20, put it in a dataframe"
   ]
  },
  {
   "cell_type": "code",
   "execution_count": 3,
   "metadata": {
    "scrolled": false
   },
   "outputs": [
    {
     "data": {
      "text/html": [
       "<div>\n",
       "<style scoped>\n",
       "    .dataframe tbody tr th:only-of-type {\n",
       "        vertical-align: middle;\n",
       "    }\n",
       "\n",
       "    .dataframe tbody tr th {\n",
       "        vertical-align: top;\n",
       "    }\n",
       "\n",
       "    .dataframe thead th {\n",
       "        text-align: right;\n",
       "    }\n",
       "</style>\n",
       "<table border=\"1\" class=\"dataframe\">\n",
       "  <thead>\n",
       "    <tr style=\"text-align: right;\">\n",
       "      <th></th>\n",
       "      <th>1</th>\n",
       "      <th>2</th>\n",
       "      <th>3</th>\n",
       "      <th>4</th>\n",
       "      <th>5</th>\n",
       "      <th>6</th>\n",
       "      <th>7</th>\n",
       "      <th>8</th>\n",
       "      <th>9</th>\n",
       "    </tr>\n",
       "  </thead>\n",
       "  <tbody>\n",
       "    <tr>\n",
       "      <th>78</th>\n",
       "      <td>1.51613</td>\n",
       "      <td>13.92</td>\n",
       "      <td>3.52</td>\n",
       "      <td>1.25</td>\n",
       "      <td>72.88</td>\n",
       "      <td>0.37</td>\n",
       "      <td>7.94</td>\n",
       "      <td>0.00</td>\n",
       "      <td>0.14</td>\n",
       "    </tr>\n",
       "    <tr>\n",
       "      <th>204</th>\n",
       "      <td>1.51617</td>\n",
       "      <td>14.95</td>\n",
       "      <td>0.00</td>\n",
       "      <td>2.27</td>\n",
       "      <td>73.30</td>\n",
       "      <td>0.00</td>\n",
       "      <td>8.71</td>\n",
       "      <td>0.67</td>\n",
       "      <td>0.00</td>\n",
       "    </tr>\n",
       "    <tr>\n",
       "      <th>21</th>\n",
       "      <td>1.51966</td>\n",
       "      <td>14.77</td>\n",
       "      <td>3.75</td>\n",
       "      <td>0.29</td>\n",
       "      <td>72.02</td>\n",
       "      <td>0.03</td>\n",
       "      <td>9.00</td>\n",
       "      <td>0.00</td>\n",
       "      <td>0.00</td>\n",
       "    </tr>\n",
       "    <tr>\n",
       "      <th>163</th>\n",
       "      <td>1.51514</td>\n",
       "      <td>14.01</td>\n",
       "      <td>2.68</td>\n",
       "      <td>3.50</td>\n",
       "      <td>69.89</td>\n",
       "      <td>1.68</td>\n",
       "      <td>5.87</td>\n",
       "      <td>2.20</td>\n",
       "      <td>0.00</td>\n",
       "    </tr>\n",
       "    <tr>\n",
       "      <th>149</th>\n",
       "      <td>1.51643</td>\n",
       "      <td>12.16</td>\n",
       "      <td>3.52</td>\n",
       "      <td>1.35</td>\n",
       "      <td>72.89</td>\n",
       "      <td>0.57</td>\n",
       "      <td>8.53</td>\n",
       "      <td>0.00</td>\n",
       "      <td>0.00</td>\n",
       "    </tr>\n",
       "    <tr>\n",
       "      <th>37</th>\n",
       "      <td>1.51797</td>\n",
       "      <td>12.74</td>\n",
       "      <td>3.48</td>\n",
       "      <td>1.35</td>\n",
       "      <td>72.96</td>\n",
       "      <td>0.64</td>\n",
       "      <td>8.68</td>\n",
       "      <td>0.00</td>\n",
       "      <td>0.00</td>\n",
       "    </tr>\n",
       "    <tr>\n",
       "      <th>126</th>\n",
       "      <td>1.51667</td>\n",
       "      <td>12.94</td>\n",
       "      <td>3.61</td>\n",
       "      <td>1.26</td>\n",
       "      <td>72.75</td>\n",
       "      <td>0.56</td>\n",
       "      <td>8.60</td>\n",
       "      <td>0.00</td>\n",
       "      <td>0.00</td>\n",
       "    </tr>\n",
       "    <tr>\n",
       "      <th>141</th>\n",
       "      <td>1.51851</td>\n",
       "      <td>13.20</td>\n",
       "      <td>3.63</td>\n",
       "      <td>1.07</td>\n",
       "      <td>72.83</td>\n",
       "      <td>0.57</td>\n",
       "      <td>8.41</td>\n",
       "      <td>0.09</td>\n",
       "      <td>0.17</td>\n",
       "    </tr>\n",
       "    <tr>\n",
       "      <th>67</th>\n",
       "      <td>1.52152</td>\n",
       "      <td>13.05</td>\n",
       "      <td>3.65</td>\n",
       "      <td>0.87</td>\n",
       "      <td>72.32</td>\n",
       "      <td>0.19</td>\n",
       "      <td>9.85</td>\n",
       "      <td>0.00</td>\n",
       "      <td>0.17</td>\n",
       "    </tr>\n",
       "    <tr>\n",
       "      <th>46</th>\n",
       "      <td>1.51869</td>\n",
       "      <td>13.19</td>\n",
       "      <td>3.37</td>\n",
       "      <td>1.18</td>\n",
       "      <td>72.72</td>\n",
       "      <td>0.57</td>\n",
       "      <td>8.83</td>\n",
       "      <td>0.00</td>\n",
       "      <td>0.16</td>\n",
       "    </tr>\n",
       "    <tr>\n",
       "      <th>96</th>\n",
       "      <td>1.51841</td>\n",
       "      <td>13.02</td>\n",
       "      <td>3.62</td>\n",
       "      <td>1.06</td>\n",
       "      <td>72.34</td>\n",
       "      <td>0.64</td>\n",
       "      <td>9.13</td>\n",
       "      <td>0.00</td>\n",
       "      <td>0.15</td>\n",
       "    </tr>\n",
       "    <tr>\n",
       "      <th>10</th>\n",
       "      <td>1.51571</td>\n",
       "      <td>12.72</td>\n",
       "      <td>3.46</td>\n",
       "      <td>1.56</td>\n",
       "      <td>73.20</td>\n",
       "      <td>0.67</td>\n",
       "      <td>8.09</td>\n",
       "      <td>0.00</td>\n",
       "      <td>0.24</td>\n",
       "    </tr>\n",
       "    <tr>\n",
       "      <th>74</th>\n",
       "      <td>1.51596</td>\n",
       "      <td>13.02</td>\n",
       "      <td>3.56</td>\n",
       "      <td>1.54</td>\n",
       "      <td>73.11</td>\n",
       "      <td>0.72</td>\n",
       "      <td>7.90</td>\n",
       "      <td>0.00</td>\n",
       "      <td>0.00</td>\n",
       "    </tr>\n",
       "    <tr>\n",
       "      <th>8</th>\n",
       "      <td>1.51918</td>\n",
       "      <td>14.04</td>\n",
       "      <td>3.58</td>\n",
       "      <td>1.37</td>\n",
       "      <td>72.08</td>\n",
       "      <td>0.56</td>\n",
       "      <td>8.30</td>\n",
       "      <td>0.00</td>\n",
       "      <td>0.00</td>\n",
       "    </tr>\n",
       "    <tr>\n",
       "      <th>183</th>\n",
       "      <td>1.51969</td>\n",
       "      <td>14.56</td>\n",
       "      <td>0.00</td>\n",
       "      <td>0.56</td>\n",
       "      <td>73.48</td>\n",
       "      <td>0.00</td>\n",
       "      <td>11.22</td>\n",
       "      <td>0.00</td>\n",
       "      <td>0.00</td>\n",
       "    </tr>\n",
       "    <tr>\n",
       "      <th>63</th>\n",
       "      <td>1.52227</td>\n",
       "      <td>14.17</td>\n",
       "      <td>3.81</td>\n",
       "      <td>0.78</td>\n",
       "      <td>71.35</td>\n",
       "      <td>0.00</td>\n",
       "      <td>9.69</td>\n",
       "      <td>0.00</td>\n",
       "      <td>0.00</td>\n",
       "    </tr>\n",
       "    <tr>\n",
       "      <th>20</th>\n",
       "      <td>1.51750</td>\n",
       "      <td>12.82</td>\n",
       "      <td>3.55</td>\n",
       "      <td>1.49</td>\n",
       "      <td>72.75</td>\n",
       "      <td>0.54</td>\n",
       "      <td>8.52</td>\n",
       "      <td>0.00</td>\n",
       "      <td>0.19</td>\n",
       "    </tr>\n",
       "    <tr>\n",
       "      <th>5</th>\n",
       "      <td>1.51596</td>\n",
       "      <td>12.79</td>\n",
       "      <td>3.61</td>\n",
       "      <td>1.62</td>\n",
       "      <td>72.97</td>\n",
       "      <td>0.64</td>\n",
       "      <td>8.07</td>\n",
       "      <td>0.00</td>\n",
       "      <td>0.26</td>\n",
       "    </tr>\n",
       "    <tr>\n",
       "      <th>35</th>\n",
       "      <td>1.51567</td>\n",
       "      <td>13.29</td>\n",
       "      <td>3.45</td>\n",
       "      <td>1.21</td>\n",
       "      <td>72.74</td>\n",
       "      <td>0.56</td>\n",
       "      <td>8.57</td>\n",
       "      <td>0.00</td>\n",
       "      <td>0.00</td>\n",
       "    </tr>\n",
       "    <tr>\n",
       "      <th>98</th>\n",
       "      <td>1.51689</td>\n",
       "      <td>12.67</td>\n",
       "      <td>2.88</td>\n",
       "      <td>1.71</td>\n",
       "      <td>73.21</td>\n",
       "      <td>0.73</td>\n",
       "      <td>8.54</td>\n",
       "      <td>0.00</td>\n",
       "      <td>0.00</td>\n",
       "    </tr>\n",
       "  </tbody>\n",
       "</table>\n",
       "</div>"
      ],
      "text/plain": [
       "           1      2     3     4      5     6      7     8     9\n",
       "78   1.51613  13.92  3.52  1.25  72.88  0.37   7.94  0.00  0.14\n",
       "204  1.51617  14.95  0.00  2.27  73.30  0.00   8.71  0.67  0.00\n",
       "21   1.51966  14.77  3.75  0.29  72.02  0.03   9.00  0.00  0.00\n",
       "163  1.51514  14.01  2.68  3.50  69.89  1.68   5.87  2.20  0.00\n",
       "149  1.51643  12.16  3.52  1.35  72.89  0.57   8.53  0.00  0.00\n",
       "37   1.51797  12.74  3.48  1.35  72.96  0.64   8.68  0.00  0.00\n",
       "126  1.51667  12.94  3.61  1.26  72.75  0.56   8.60  0.00  0.00\n",
       "141  1.51851  13.20  3.63  1.07  72.83  0.57   8.41  0.09  0.17\n",
       "67   1.52152  13.05  3.65  0.87  72.32  0.19   9.85  0.00  0.17\n",
       "46   1.51869  13.19  3.37  1.18  72.72  0.57   8.83  0.00  0.16\n",
       "96   1.51841  13.02  3.62  1.06  72.34  0.64   9.13  0.00  0.15\n",
       "10   1.51571  12.72  3.46  1.56  73.20  0.67   8.09  0.00  0.24\n",
       "74   1.51596  13.02  3.56  1.54  73.11  0.72   7.90  0.00  0.00\n",
       "8    1.51918  14.04  3.58  1.37  72.08  0.56   8.30  0.00  0.00\n",
       "183  1.51969  14.56  0.00  0.56  73.48  0.00  11.22  0.00  0.00\n",
       "63   1.52227  14.17  3.81  0.78  71.35  0.00   9.69  0.00  0.00\n",
       "20   1.51750  12.82  3.55  1.49  72.75  0.54   8.52  0.00  0.19\n",
       "5    1.51596  12.79  3.61  1.62  72.97  0.64   8.07  0.00  0.26\n",
       "35   1.51567  13.29  3.45  1.21  72.74  0.56   8.57  0.00  0.00\n",
       "98   1.51689  12.67  2.88  1.71  73.21  0.73   8.54  0.00  0.00"
      ]
     },
     "execution_count": 3,
     "metadata": {},
     "output_type": "execute_result"
    }
   ],
   "source": [
    "data= pd.read_csv (r'C:\\Users\\asus\\Downloads\\Documents\\IntrotoDS\\Mai Dang Nhat Anh - ITDSIU19031\\glass.data',header=None,usecols=[1,2,3,4,5,6,7,8,9])\n",
    "#print(data)\n",
    "sample = data.sample(20)\n",
    "df = pd.DataFrame(sample)\n",
    "df\n",
    "\n"
   ]
  },
  {
   "cell_type": "markdown",
   "metadata": {},
   "source": [
    "Sketch the boxplot of 9 variables from attribute 2 - 10"
   ]
  },
  {
   "cell_type": "code",
   "execution_count": 14,
   "metadata": {
    "scrolled": false
   },
   "outputs": [
    {
     "data": {
      "image/png": "[encoded data removed]",
      "text/plain": [
       "<Figure size 1440x720 with 9 Axes>"
      ]
     },
     "metadata": {
      "needs_background": "light"
     },
     "output_type": "display_data"
    }
   ],
   "source": [
    "fig, axes = plt.subplots(nrows=1, ncols=9, figsize=(20, 10))\n",
    "\n",
    "df[1].plot.box(ax=axes[0])\n",
    "df[2].plot.box(ax=axes[1])\n",
    "df[3].plot.box(ax=axes[2])\n",
    "df[4].plot.box(ax=axes[3])\n",
    "df[5].plot.box(ax=axes[4])\n",
    "df[6].plot.box(ax=axes[5])\n",
    "df[7].plot.box(ax=axes[6])\n",
    "df[8].plot.box(ax=axes[7])\n",
    "df[9].plot.box(ax=axes[8])\n",
    "\n",
    "axes[0].set_title('attr 2')\n",
    "axes[1].set_title('attr 3')\n",
    "axes[2].set_title('attr 4')\n",
    "axes[3].set_title('attr 5')\n",
    "axes[4].set_title('attr 6')\n",
    "axes[5].set_title('attr 7')\n",
    "axes[6].set_title('attr 8')\n",
    "axes[7].set_title('attr 9')\n",
    "axes[8].set_title('attr 10')\n",
    "\n",
    "fig.tight_layout()\n",
    "plt.show()"
   ]
  },
  {
   "cell_type": "markdown",
   "metadata": {},
   "source": [
    "### Q2. (30pts) Compare and remark the five-number summaries from the above boxplots with the Summary Statistics of the corresponding attributes described in file glass.names."
   ]
  },
  {
   "cell_type": "code",
   "execution_count": 15,
   "metadata": {},
   "outputs": [
    {
     "name": "stdout",
     "output_type": "stream",
     "text": [
      "min: 1.51514\n",
      "Q1: 1.5160874999999998\n",
      "Q2: 1.517195\n",
      "Q3 1.5188125000000001\n",
      "max: 1.52227\n"
     ]
    }
   ],
   "source": [
    "print(\"min:\",min(df[1]))\n",
    "print(\"Q1:\",scipy.percentile(df[1],25))\n",
    "print(\"Q2:\",scipy.median(df[1]))\n",
    "print(\"Q3\",scipy.percentile(df[1],75))\n",
    "print(\"max:\",max(df[1]))"
   ]
  },
  {
   "cell_type": "code",
   "execution_count": 16,
   "metadata": {},
   "outputs": [
    {
     "name": "stdout",
     "output_type": "stream",
     "text": [
      "min: 12.16\n",
      "Q1: 12.8125\n",
      "Q2: 13.120000000000001\n",
      "Q3 14.0175\n",
      "max: 14.95\n"
     ]
    }
   ],
   "source": [
    "print(\"min:\",min(df[2]))\n",
    "print(\"Q1:\",scipy.percentile(df[2],25))\n",
    "print(\"Q2:\",scipy.median(df[2]))\n",
    "print(\"Q3\",scipy.percentile(df[2],75))\n",
    "print(\"max:\",max(df[2]))"
   ]
  },
  {
   "cell_type": "code",
   "execution_count": 17,
   "metadata": {},
   "outputs": [
    {
     "name": "stdout",
     "output_type": "stream",
     "text": [
      "min: 0.0\n",
      "Q1: 3.4300000000000006\n",
      "Q2: 3.535\n",
      "Q3 3.6125\n",
      "max: 3.81\n"
     ]
    }
   ],
   "source": [
    "print(\"min:\",min(df[3]))\n",
    "print(\"Q1:\",scipy.percentile(df[3],25))\n",
    "print(\"Q2:\",scipy.median(df[3]))\n",
    "print(\"Q3\",scipy.percentile(df[3],75))\n",
    "print(\"max:\",max(df[3]))"
   ]
  },
  {
   "cell_type": "code",
   "execution_count": 18,
   "metadata": {},
   "outputs": [
    {
     "name": "stdout",
     "output_type": "stream",
     "text": [
      "min: 0.29\n",
      "Q1: 1.0675\n",
      "Q2: 1.3050000000000002\n",
      "Q3 1.545\n",
      "max: 3.5\n"
     ]
    }
   ],
   "source": [
    "print(\"min:\",min(df[4]))\n",
    "print(\"Q1:\",scipy.percentile(df[4],25))\n",
    "print(\"Q2:\",scipy.median(df[4]))\n",
    "print(\"Q3\",scipy.percentile(df[4],75))\n",
    "print(\"max:\",max(df[4]))"
   ]
  },
  {
   "cell_type": "code",
   "execution_count": 19,
   "metadata": {},
   "outputs": [
    {
     "name": "stdout",
     "output_type": "stream",
     "text": [
      "min: 69.89\n",
      "Q1: 72.33500000000001\n",
      "Q2: 72.78999999999999\n",
      "Q3 73.005\n",
      "max: 73.48\n"
     ]
    }
   ],
   "source": [
    "print(\"min:\",min(df[5]))\n",
    "print(\"Q1:\",scipy.percentile(df[5],25))\n",
    "print(\"Q2:\",scipy.median(df[5]))\n",
    "print(\"Q3\",scipy.percentile(df[5],75))\n",
    "print(\"max:\",max(df[5]))"
   ]
  },
  {
   "cell_type": "code",
   "execution_count": 20,
   "metadata": {},
   "outputs": [
    {
     "name": "stdout",
     "output_type": "stream",
     "text": [
      "min: 0.0\n",
      "Q1: 0.32499999999999996\n",
      "Q2: 0.565\n",
      "Q3 0.64\n",
      "max: 1.68\n"
     ]
    }
   ],
   "source": [
    "print(\"min:\",min(df[6]))\n",
    "print(\"Q1:\",scipy.percentile(df[6],25))\n",
    "print(\"Q2:\",scipy.median(df[6]))\n",
    "print(\"Q3\",scipy.percentile(df[6],75))\n",
    "print(\"max:\",max(df[6]))"
   ]
  },
  {
   "cell_type": "code",
   "execution_count": 21,
   "metadata": {},
   "outputs": [
    {
     "name": "stdout",
     "output_type": "stream",
     "text": [
      "min: 5.87\n",
      "Q1: 8.2475\n",
      "Q2: 8.555\n",
      "Q3 8.8725\n",
      "max: 11.22\n"
     ]
    }
   ],
   "source": [
    "print(\"min:\",min(df[7]))\n",
    "print(\"Q1:\",scipy.percentile(df[7],25))\n",
    "print(\"Q2:\",scipy.median(df[7]))\n",
    "print(\"Q3\",scipy.percentile(df[7],75))\n",
    "print(\"max:\",max(df[7]))"
   ]
  },
  {
   "cell_type": "code",
   "execution_count": 22,
   "metadata": {},
   "outputs": [
    {
     "name": "stdout",
     "output_type": "stream",
     "text": [
      "min: 0.0\n",
      "Q1: 0.0\n",
      "Q2: 0.0\n",
      "Q3 0.0\n",
      "max: 2.2\n"
     ]
    }
   ],
   "source": [
    "print(\"min:\",min(df[8]))\n",
    "print(\"Q1:\",scipy.percentile(df[8],25))\n",
    "print(\"Q2:\",scipy.median(df[8]))\n",
    "print(\"Q3\",scipy.percentile(df[8],75))\n",
    "print(\"max:\",max(df[8]))"
   ]
  },
  {
   "cell_type": "code",
   "execution_count": 23,
   "metadata": {},
   "outputs": [
    {
     "name": "stdout",
     "output_type": "stream",
     "text": [
      "min: 0.0\n",
      "Q1: 0.0\n",
      "Q2: 0.0\n",
      "Q3 0.1625\n",
      "max: 0.26\n"
     ]
    }
   ],
   "source": [
    "print(\"min:\",min(df[9]))\n",
    "print(\"Q1:\",scipy.percentile(df[9],25))\n",
    "print(\"Q2:\",scipy.median(df[9]))\n",
    "print(\"Q3\",scipy.percentile(df[9],75))\n",
    "print(\"max:\",max(df[9]))"
   ]
  },
  {
   "cell_type": "markdown",
   "metadata": {},
   "source": [
    "Remark: The five-number summary that we calculated is similar to the Summary Statistic in the boxplot"
   ]
  },
  {
   "cell_type": "markdown",
   "metadata": {},
   "source": [
    "### Q3. (30pts) Pick up one of the 20 sample records and find TWO nearest records using Euclidean and Manhattan distance metrics, using excel or R or Python. These comparisons are performed on the numeric attributes 2-10 only, exclude the type attribute. Note: please provide the selected records before listing the two nearest records, and explain how you get results."
   ]
  },
  {
   "cell_type": "markdown",
   "metadata": {},
   "source": [
    "We choose a record from the sample we have taken in Q1"
   ]
  },
  {
   "cell_type": "code",
   "execution_count": 33,
   "metadata": {},
   "outputs": [
    {
     "data": {
      "text/html": [
       "<div>\n",
       "<style scoped>\n",
       "    .dataframe tbody tr th:only-of-type {\n",
       "        vertical-align: middle;\n",
       "    }\n",
       "\n",
       "    .dataframe tbody tr th {\n",
       "        vertical-align: top;\n",
       "    }\n",
       "\n",
       "    .dataframe thead th {\n",
       "        text-align: right;\n",
       "    }\n",
       "</style>\n",
       "<table border=\"1\" class=\"dataframe\">\n",
       "  <thead>\n",
       "    <tr style=\"text-align: right;\">\n",
       "      <th></th>\n",
       "      <th>1</th>\n",
       "      <th>2</th>\n",
       "      <th>3</th>\n",
       "      <th>4</th>\n",
       "      <th>5</th>\n",
       "      <th>6</th>\n",
       "      <th>7</th>\n",
       "      <th>8</th>\n",
       "      <th>9</th>\n",
       "    </tr>\n",
       "  </thead>\n",
       "  <tbody>\n",
       "    <tr>\n",
       "      <th>204</th>\n",
       "      <td>1.51617</td>\n",
       "      <td>14.95</td>\n",
       "      <td>0.0</td>\n",
       "      <td>2.27</td>\n",
       "      <td>73.3</td>\n",
       "      <td>0.0</td>\n",
       "      <td>8.71</td>\n",
       "      <td>0.67</td>\n",
       "      <td>0.0</td>\n",
       "    </tr>\n",
       "  </tbody>\n",
       "</table>\n",
       "</div>"
      ],
      "text/plain": [
       "           1      2    3     4     5    6     7     8    9\n",
       "204  1.51617  14.95  0.0  2.27  73.3  0.0  8.71  0.67  0.0"
      ]
     },
     "execution_count": 33,
     "metadata": {},
     "output_type": "execute_result"
    }
   ],
   "source": [
    "sample1 = sample.sample(1)\n",
    "selectRe = pd.DataFrame(sample1)\n",
    "selectRe"
   ]
  },
  {
   "cell_type": "markdown",
   "metadata": {},
   "source": [
    "We see that is the 2nd row from the dataframe  \n",
    "  \n",
    "Then, we assign value for each row from dataframe"
   ]
  },
  {
   "cell_type": "code",
   "execution_count": 34,
   "metadata": {},
   "outputs": [
    {
     "data": {
      "text/plain": [
       "1     1.51613\n",
       "2    13.92000\n",
       "3     3.52000\n",
       "4     1.25000\n",
       "5    72.88000\n",
       "6     0.37000\n",
       "7     7.94000\n",
       "8     0.00000\n",
       "9     0.14000\n",
       "Name: 78, dtype: float64"
      ]
     },
     "execution_count": 34,
     "metadata": {},
     "output_type": "execute_result"
    }
   ],
   "source": [
    "row1 = df.iloc[0]\n",
    "row1"
   ]
  },
  {
   "cell_type": "code",
   "execution_count": 35,
   "metadata": {},
   "outputs": [],
   "source": [
    "row2 = df.iloc[1]\n",
    "row3 = df.iloc[2]\n",
    "row4=df.iloc[3]\n",
    "row5=df.iloc[4]\n",
    "row6=df.iloc[5]\n",
    "row7=df.iloc[6]\n",
    "row8=df.iloc[7]\n",
    "row9=df.iloc[8]\n",
    "row10=df.iloc[9]\n",
    "row11=df.iloc[10]\n",
    "row12=df.iloc[11]\n",
    "row13=df.iloc[12]\n",
    "row14=df.iloc[13]\n",
    "row15=df.iloc[14]\n",
    "row16=df.iloc[15]\n",
    "row17=df.iloc[16]\n",
    "row18=df.iloc[17]\n",
    "row19=df.iloc[18]\n",
    "row20=df.iloc[19]"
   ]
  },
  {
   "cell_type": "markdown",
   "metadata": {},
   "source": [
    "Import distance from the library scipy for K-NN calculation"
   ]
  },
  {
   "cell_type": "code",
   "execution_count": 36,
   "metadata": {},
   "outputs": [],
   "source": [
    "from scipy.spatial import distance\n"
   ]
  },
  {
   "cell_type": "markdown",
   "metadata": {},
   "source": [
    "Calculate the Euclidean Distance of each row to the selected row"
   ]
  },
  {
   "cell_type": "code",
   "execution_count": 37,
   "metadata": {},
   "outputs": [],
   "source": [
    "dst1 = distance.euclidean(selectRe, row1)\n",
    "dst2 = distance.euclidean(selectRe,row2)\n",
    "dst3 = distance.euclidean(selectRe,row3)\n",
    "dst4 = distance.euclidean(selectRe,row4)\n",
    "dst5 = distance.euclidean(selectRe,row5)\n",
    "dst6 = distance.euclidean(selectRe,row6)\n",
    "dst7 = distance.euclidean(selectRe,row7)\n",
    "dst8 = distance.euclidean(selectRe,row8)\n",
    "dst9 = distance.euclidean(selectRe,row9)\n",
    "dst10 = distance.euclidean(selectRe,row10)\n",
    "dst11 = distance.euclidean(selectRe,row11)\n",
    "dst12 = distance.euclidean(selectRe,row12)\n",
    "dst13 = distance.euclidean(selectRe,row13)\n",
    "dst14 = distance.euclidean(selectRe,row14)\n",
    "dst15 = distance.euclidean(selectRe,row15)\n",
    "dst16 = distance.euclidean(selectRe,row16)\n",
    "dst17 = distance.euclidean(selectRe,row17)\n",
    "dst18 = distance.euclidean(selectRe,row18)\n",
    "dst19 = distance.euclidean(selectRe,row19)\n",
    "dst20 = distance.euclidean(selectRe,row20)"
   ]
  },
  {
   "cell_type": "code",
   "execution_count": 38,
   "metadata": {
    "scrolled": true
   },
   "outputs": [
    {
     "name": "stdout",
     "output_type": "stream",
     "text": [
      "distance from the selected record to row1= 3.9832649926410872\n",
      "distance from the selected record to row2= 0.0\n",
      "distance from the selected record to row3= 4.493062672620982\n",
      "distance from the selected record to row4= 5.868211061379778\n",
      "distance from the selected record to row5= 4.689904057398189\n",
      "distance from the selected record to row6= 4.33773019446807\n",
      "distance from the selected record to row7= 4.37828736494077\n",
      "distance from the selected record to row8= 4.322095033152325\n",
      "distance from the selected record to row9= 4.654721111140817\n",
      "distance from the selected record to row10= 4.097902677028824\n",
      "distance from the selected record to row11= 4.5024887581869635\n",
      "distance from the selected record to row12= 4.335712191970311\n",
      "distance from the selected record to row13= 4.311716600624396\n",
      "distance from the selected record to row14= 4.107737705854647\n",
      "distance from the selected record to row15= 3.139683485703615\n",
      "distance from the selected record to row16= 4.749361768701139\n",
      "distance from the selected record to row17= 4.343155738503973\n",
      "distance from the selected record to row18= 4.423211507954373\n",
      "distance from the selected record to row19= 4.108211320027245\n",
      "distance from the selected record to row20= 3.8503507007024695\n"
     ]
    }
   ],
   "source": [
    "print(\"distance from the selected record to row1=\",dst1)\n",
    "print(\"distance from the selected record to row2=\",dst2)\n",
    "print(\"distance from the selected record to row3=\",dst3)\n",
    "print(\"distance from the selected record to row4=\",dst4)\n",
    "print(\"distance from the selected record to row5=\",dst5)\n",
    "print(\"distance from the selected record to row6=\",dst6)\n",
    "print(\"distance from the selected record to row7=\",dst7)\n",
    "print(\"distance from the selected record to row8=\",dst8)\n",
    "print(\"distance from the selected record to row9=\",dst9)\n",
    "print(\"distance from the selected record to row10=\",dst10)\n",
    "print(\"distance from the selected record to row11=\",dst11)\n",
    "print(\"distance from the selected record to row12=\",dst12)\n",
    "print(\"distance from the selected record to row13=\",dst13)\n",
    "print(\"distance from the selected record to row14=\",dst14)\n",
    "print(\"distance from the selected record to row15=\",dst15)\n",
    "print(\"distance from the selected record to row16=\",dst16)\n",
    "print(\"distance from the selected record to row17=\",dst17)\n",
    "print(\"distance from the selected record to row18=\",dst18)\n",
    "print(\"distance from the selected record to row19=\",dst19)\n",
    "print(\"distance from the selected record to row20=\",dst20)\n"
   ]
  },
  {
   "cell_type": "code",
   "execution_count": 39,
   "metadata": {},
   "outputs": [],
   "source": [
    "euclidean=[dst1,dst2,dst3,dst4,dst5,dst6,dst7,dst8,dst9,dst10,dst11,dst12,dst13,dst14,dst15,dst16,dst17,dst18,dst19,dst20]"
   ]
  },
  {
   "cell_type": "markdown",
   "metadata": {},
   "source": [
    "Find the top 3 smallest, because the smallest value in these calculation is itself  \n",
    "So, the second and the third smallest is the two nearest records "
   ]
  },
  {
   "cell_type": "code",
   "execution_count": 40,
   "metadata": {},
   "outputs": [
    {
     "name": "stdout",
     "output_type": "stream",
     "text": [
      "Smallest element is: 0.0\n",
      "Second Smallest element is: 3.139683485703615\n",
      "Third Smallest element is: 3.8503507007024695\n"
     ]
    }
   ],
   "source": [
    "def smallestdist(euclidean): \n",
    "    length = len(euclidean) \n",
    "    euclidean.sort() \n",
    "    print(\"Smallest element is:\", euclidean[0]) \n",
    "    print(\"Second Smallest element is:\", euclidean[1])\n",
    "    print(\"Third Smallest element is:\",euclidean[2])\n",
    "smallestdist(euclidean)"
   ]
  },
  {
   "cell_type": "markdown",
   "metadata": {},
   "source": [
    "=> We see that, the two nearest record are the 15th row and the 20th row\n",
    "  \n",
    "We do the same thing with Manhattan distance(the other name is Cityblock) "
   ]
  },
  {
   "cell_type": "code",
   "execution_count": 41,
   "metadata": {},
   "outputs": [],
   "source": [
    "dst1 = distance.cityblock(selectRe, row1)\n",
    "dst2 = distance.cityblock(selectRe,row2)\n",
    "dst3 = distance.cityblock(selectRe,row3)\n",
    "dst4 = distance.cityblock(selectRe,row4)\n",
    "dst5 = distance.cityblock(selectRe,row5)\n",
    "dst6 = distance.cityblock(selectRe,row6)\n",
    "dst7 = distance.cityblock(selectRe,row7)\n",
    "dst8 = distance.cityblock(selectRe,row8)\n",
    "dst9 = distance.cityblock(selectRe,row9)\n",
    "dst10 = distance.cityblock(selectRe,row10)\n",
    "dst11 = distance.cityblock(selectRe,row11)\n",
    "dst12 = distance.cityblock(selectRe,row12)\n",
    "dst13 = distance.cityblock(selectRe,row13)\n",
    "dst14 = distance.cityblock(selectRe,row14)\n",
    "dst15 = distance.cityblock(selectRe,row15)\n",
    "dst16 = distance.cityblock(selectRe,row16)\n",
    "dst17 = distance.cityblock(selectRe,row17)\n",
    "dst18 = distance.cityblock(selectRe,row18)\n",
    "dst19 = distance.cityblock(selectRe,row19)\n",
    "dst20 = distance.cityblock(selectRe,row20)"
   ]
  },
  {
   "cell_type": "code",
   "execution_count": 42,
   "metadata": {},
   "outputs": [
    {
     "name": "stdout",
     "output_type": "stream",
     "text": [
      "distance from the selected record to row1= 7.9400400000000015\n",
      "distance from the selected record to row2= 0.0\n",
      "distance from the selected record to row3= 8.18349\n",
      "distance from the selected record to row4= 14.311029999999997\n",
      "distance from the selected record to row5= 9.060259999999996\n",
      "distance from the selected record to row6= 8.291800000000004\n",
      "distance from the selected record to row7= 8.520499999999998\n",
      "distance from the selected record to row8= 8.67234\n",
      "distance from the selected record to row9= 10.105350000000001\n",
      "distance from the selected record to row10= 8.322519999999997\n",
      "distance from the selected record to row11= 9.602239999999995\n",
      "distance from the selected record to row12= 8.700459999999994\n",
      "distance from the selected record to row13= 8.610209999999999\n",
      "distance from the selected record to row14= 8.25301\n",
      "distance from the selected record to row15= 5.463520000000005\n",
      "distance from the selected record to row16= 9.6861\n",
      "distance from the selected record to row17= 8.601329999999997\n",
      "distance from the selected record to row18= 8.960209999999998\n",
      "distance from the selected record to row19= 8.100500000000002\n",
      "distance from the selected record to row20= 7.3807200000000055\n"
     ]
    }
   ],
   "source": [
    "print(\"distance from the selected record to row1=\",dst1)\n",
    "print(\"distance from the selected record to row2=\",dst2)\n",
    "print(\"distance from the selected record to row3=\",dst3)\n",
    "print(\"distance from the selected record to row4=\",dst4)\n",
    "print(\"distance from the selected record to row5=\",dst5)\n",
    "print(\"distance from the selected record to row6=\",dst6)\n",
    "print(\"distance from the selected record to row7=\",dst7)\n",
    "print(\"distance from the selected record to row8=\",dst8)\n",
    "print(\"distance from the selected record to row9=\",dst9)\n",
    "print(\"distance from the selected record to row10=\",dst10)\n",
    "print(\"distance from the selected record to row11=\",dst11)\n",
    "print(\"distance from the selected record to row12=\",dst12)\n",
    "print(\"distance from the selected record to row13=\",dst13)\n",
    "print(\"distance from the selected record to row14=\",dst14)\n",
    "print(\"distance from the selected record to row15=\",dst15)\n",
    "print(\"distance from the selected record to row16=\",dst16)\n",
    "print(\"distance from the selected record to row17=\",dst17)\n",
    "print(\"distance from the selected record to row18=\",dst18)\n",
    "print(\"distance from the selected record to row19=\",dst19)\n",
    "print(\"distance from the selected record to row20=\",dst20)"
   ]
  },
  {
   "cell_type": "code",
   "execution_count": 43,
   "metadata": {},
   "outputs": [],
   "source": [
    "manhattan=[dst1,dst2,dst3,dst4,dst5,dst6,dst7,dst8,dst9,dst10,dst11,dst12,dst13,dst14,dst15,dst16,dst17,dst18,dst19,dst20]"
   ]
  },
  {
   "cell_type": "code",
   "execution_count": 44,
   "metadata": {},
   "outputs": [
    {
     "name": "stdout",
     "output_type": "stream",
     "text": [
      "Smallest element is: 0.0\n",
      "Second Smallest element is: 5.463520000000005\n",
      "Third Smallest element is: 7.3807200000000055\n"
     ]
    }
   ],
   "source": [
    "smallestdist(manhattan)"
   ]
  },
  {
   "cell_type": "markdown",
   "metadata": {},
   "source": [
    "=> We see that, the two nearest record are the 15th row and the 20th row"
   ]
  },
  {
   "cell_type": "markdown",
   "metadata": {},
   "source": [
    "### Q4. (10 bonus pts) Remark the distribution of attribute values in the found records in Q.3, compared with the selected record."
   ]
  },
  {
   "cell_type": "code",
   "execution_count": 45,
   "metadata": {},
   "outputs": [
    {
     "data": {
      "text/html": [
       "<div>\n",
       "<style scoped>\n",
       "    .dataframe tbody tr th:only-of-type {\n",
       "        vertical-align: middle;\n",
       "    }\n",
       "\n",
       "    .dataframe tbody tr th {\n",
       "        vertical-align: top;\n",
       "    }\n",
       "\n",
       "    .dataframe thead th {\n",
       "        text-align: right;\n",
       "    }\n",
       "</style>\n",
       "<table border=\"1\" class=\"dataframe\">\n",
       "  <thead>\n",
       "    <tr style=\"text-align: right;\">\n",
       "      <th></th>\n",
       "      <th>1</th>\n",
       "      <th>2</th>\n",
       "      <th>3</th>\n",
       "      <th>4</th>\n",
       "      <th>5</th>\n",
       "      <th>6</th>\n",
       "      <th>7</th>\n",
       "      <th>8</th>\n",
       "      <th>9</th>\n",
       "    </tr>\n",
       "  </thead>\n",
       "  <tbody>\n",
       "    <tr>\n",
       "      <th>204</th>\n",
       "      <td>1.51617</td>\n",
       "      <td>14.95</td>\n",
       "      <td>0.00</td>\n",
       "      <td>2.27</td>\n",
       "      <td>73.30</td>\n",
       "      <td>0.00</td>\n",
       "      <td>8.71</td>\n",
       "      <td>0.67</td>\n",
       "      <td>0.0</td>\n",
       "    </tr>\n",
       "    <tr>\n",
       "      <th>183</th>\n",
       "      <td>1.51969</td>\n",
       "      <td>14.56</td>\n",
       "      <td>0.00</td>\n",
       "      <td>0.56</td>\n",
       "      <td>73.48</td>\n",
       "      <td>0.00</td>\n",
       "      <td>11.22</td>\n",
       "      <td>0.00</td>\n",
       "      <td>0.0</td>\n",
       "    </tr>\n",
       "    <tr>\n",
       "      <th>98</th>\n",
       "      <td>1.51689</td>\n",
       "      <td>12.67</td>\n",
       "      <td>2.88</td>\n",
       "      <td>1.71</td>\n",
       "      <td>73.21</td>\n",
       "      <td>0.73</td>\n",
       "      <td>8.54</td>\n",
       "      <td>0.00</td>\n",
       "      <td>0.0</td>\n",
       "    </tr>\n",
       "  </tbody>\n",
       "</table>\n",
       "</div>"
      ],
      "text/plain": [
       "           1      2     3     4      5     6      7     8    9\n",
       "204  1.51617  14.95  0.00  2.27  73.30  0.00   8.71  0.67  0.0\n",
       "183  1.51969  14.56  0.00  0.56  73.48  0.00  11.22  0.00  0.0\n",
       "98   1.51689  12.67  2.88  1.71  73.21  0.73   8.54  0.00  0.0"
      ]
     },
     "execution_count": 45,
     "metadata": {},
     "output_type": "execute_result"
    }
   ],
   "source": [
    "df.drop(df.index[[0,2,3,4,5,6,7,8,9,10,11,12,13,15,16,17,18]])"
   ]
  },
  {
   "cell_type": "markdown",
   "metadata": {},
   "source": [
    "Remark: The attribute values in the found record and the selected record are very closed "
   ]
  },
  {
   "cell_type": "code",
   "execution_count": null,
   "metadata": {},
   "outputs": [],
   "source": []
  }
 ],
 "metadata": {
  "kernelspec": {
   "display_name": "Python 3",
   "language": "python",
   "name": "python3"
  },
  "language_info": {
   "codemirror_mode": {
    "name": "ipython",
    "version": 3
   },
   "file_extension": ".py",
   "mimetype": "text/x-python",
   "name": "python",
   "nbconvert_exporter": "python",
   "pygments_lexer": "ipython3",
   "version": "3.7.3"
  }
 },
 "nbformat": 4,
 "nbformat_minor": 2
}
